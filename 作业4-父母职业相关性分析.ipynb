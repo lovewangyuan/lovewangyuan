{
 "cells": [
  {
   "cell_type": "code",
   "execution_count": 1,
   "metadata": {},
   "outputs": [],
   "source": [
    "import mytools\n",
    "import pandas as pd\n",
    "from pyreadstat import pyreadstat\n",
    "import matplotlib.pyplot as plt"
   ]
  },
  {
   "cell_type": "code",
   "execution_count": 2,
   "metadata": {},
   "outputs": [],
   "source": [
    "df = pd.read_csv(R'data/类别变量练习数据.csv',encoding='GBK')"
   ]
  },
  {
   "cell_type": "code",
   "execution_count": 3,
   "metadata": {},
   "outputs": [
    {
     "name": "stdout",
     "output_type": "stream",
     "text": [
      "<bound method NDFrame.describe of               父亲工作  Unnamed: 1  Unnamed: 2 父亲职业重新编码           母亲工作  \\\n",
      "0     中铁六局太原铁路建设公司         NaN         NaN       国企    鑫智点交通设施有限公司   \n",
      "1       凯信会议服务有限公司         NaN         NaN       民企  长城国际旅行社有限责任公司   \n",
      "2       银光聚银化工有限公司         NaN         NaN       国企        九亩花田蛋糕店   \n",
      "3       元拓科技咨询有限公司         NaN         NaN       国企   中国平安财险股份有限公司   \n",
      "4          市广播电视大学         NaN         NaN     事业单位          市实验中学   \n",
      "5         市经济合作局\\n         NaN         NaN      公务员      县住房保障中心\\n   \n",
      "6          区建豪汽修中心         NaN         NaN       个体           家庭主妇   \n",
      "7          区建豪汽修中心         NaN         NaN       个体           家庭主妇   \n",
      "8     陕西省水利水电第三工程局         NaN         NaN      公务员           二十一冶   \n",
      "9   渭源陇原恒新畜牧科技有限公司         NaN         NaN       民企      XX路街道诚信社区   \n",
      "10            市民政局         NaN         NaN      公务员       矿冶职业技术学院   \n",
      "11   北京路九洋菜市场刘伟鲜面店         NaN         NaN       个体  北京路九洋菜市场刘伟鲜面店   \n",
      "12         市第一人民医院         NaN         NaN     事业单位  公路应急保障与路网监测中心   \n",
      "13          市农业农村局         NaN         NaN      公务员           市委编办   \n",
      "14           老姐饺子馆         NaN         NaN       个体            NaN   \n",
      "15       大市场清华电动工具         NaN         NaN       个体           家庭主妇   \n",
      "16            市统计局         NaN         NaN      公务员             个体   \n",
      "17         盛泰房地产公司         NaN         NaN       民企           家庭主妇   \n",
      "18         盛泰房地产公司         NaN         NaN       民企           家庭主妇   \n",
      "19  县瑞金路锦辉消防工程有限公司         NaN         NaN       民企           家庭主妇   \n",
      "20      市农业综合行政执法队         NaN         NaN      公务员     宏信房地资产评估公司   \n",
      "21      大禹工程咨询有限公司         NaN         NaN       民企         纺织路街道办   \n",
      "22         市中级人民法院         NaN         NaN     事业单位       农行XXX县支行   \n",
      "23            家庭父亲         NaN         NaN     家庭主夫    白银区公园路街道办事处   \n",
      "24            市旅游局         NaN         NaN     事业单位         大自然旅行社   \n",
      "25            陇风巢浴         NaN         NaN       个体           凤巢浴足   \n",
      "26          XXX镇政府         NaN         NaN      公务员      美年大健康有限公司   \n",
      "27             市团委         NaN         NaN      公务员         区应急管理局   \n",
      "28  万盛体能拓展中心鑫多米便利店         NaN         NaN       个体         北门流觞烟酒   \n",
      "29            市公安局         NaN         NaN     事业单位          区人民法院   \n",
      "30            家庭父母         NaN         NaN     家庭主夫           家庭父母   \n",
      "31             公安局         NaN         NaN     事业单位   市给排水（集团）有限公司   \n",
      "32           西区管委会         NaN         NaN      公务员           市人社局   \n",
      "33            市住建局         NaN         NaN      公务员         市科学技术局   \n",
      "34          XXX建设局         NaN         NaN      公务员          区住建局    \n",
      "35       银中源工贸有限公司         NaN         NaN       民企           家庭主妇   \n",
      "36          广东省中海油         NaN         NaN       民企           家庭主妇   \n",
      "37          娟红杂粮食府         NaN         NaN       个体         娟红杂粮食府   \n",
      "38           市政管理处         NaN         NaN      公务员         区妇幼保健站   \n",
      "39     中国兵器工业公司三冶炼         NaN         NaN       民企              无   \n",
      "40      万民工程建设有限公司         NaN         NaN       民企     新疆省和田市个体药店   \n",
      "41            市公安局         NaN         NaN      公务员        省第三人民医院   \n",
      "42            省监狱局         NaN         NaN      公务员          区人民法院   \n",
      "43            家庭主妇         NaN         NaN     家庭主夫           家庭主妇   \n",
      "44   江苏路之久工程建设有限公司         NaN         NaN       民企           家庭主妇   \n",
      "45            市财政局         NaN         NaN      公务员           市教育局   \n",
      "46            市财政局         NaN         NaN      公务员        泰安学校教职工   \n",
      "47            瑞禾农资         NaN         NaN       民企          市委统战部   \n",
      "48             市纪委         NaN         NaN      公务员       市公安局交警支队   \n",
      "49             市委办         NaN         NaN      公务员           市审计局   \n",
      "50     第十一中学北侧校园书店         NaN         NaN       个体         顶新文化公司   \n",
      "51            长通公司         NaN         NaN       民企          市育才学校   \n",
      "52            市住建局         NaN         NaN      公务员         区融媒体中心   \n",
      "\n",
      "    Unnamed: 5  Unnamed: 6 母亲职业重新编码  \n",
      "0          NaN         NaN       民企  \n",
      "1          NaN         NaN       民企  \n",
      "2          NaN         NaN       个体  \n",
      "3          NaN         NaN     上市民企  \n",
      "4          NaN         NaN     事业单位  \n",
      "5          NaN         NaN     事业单位  \n",
      "6          NaN         NaN     家庭主妇  \n",
      "7          NaN         NaN     家庭主妇  \n",
      "8          NaN         NaN       国企  \n",
      "9          NaN         NaN      公务员  \n",
      "10         NaN         NaN     事业单位  \n",
      "11         NaN         NaN       个体  \n",
      "12         NaN         NaN     事业单位  \n",
      "13         NaN         NaN      公务员  \n",
      "14         NaN         NaN     家庭主妇  \n",
      "15         NaN         NaN     家庭主妇  \n",
      "16         NaN         NaN       个体  \n",
      "17         NaN         NaN     家庭主妇  \n",
      "18         NaN         NaN     家庭主妇  \n",
      "19         NaN         NaN     家庭主妇  \n",
      "20         NaN         NaN       民企  \n",
      "21         NaN         NaN      公务员  \n",
      "22         NaN         NaN     事业单位  \n",
      "23         NaN         NaN      公务员  \n",
      "24         NaN         NaN     事业单位  \n",
      "25         NaN         NaN       个体  \n",
      "26         NaN         NaN     上市民企  \n",
      "27         NaN         NaN      公务员  \n",
      "28         NaN         NaN       个体  \n",
      "29         NaN         NaN     事业单位  \n",
      "30         NaN         NaN     家庭主妇  \n",
      "31         NaN         NaN       国企  \n",
      "32         NaN         NaN      公务员  \n",
      "33         NaN         NaN      公务员  \n",
      "34         NaN         NaN      公务员  \n",
      "35         NaN         NaN     家庭主妇  \n",
      "36         NaN         NaN     家庭主妇  \n",
      "37         NaN         NaN       个体  \n",
      "38         NaN         NaN     事业单位  \n",
      "39         NaN         NaN     家庭主妇  \n",
      "40         NaN         NaN       个体  \n",
      "41         NaN         NaN     事业单位  \n",
      "42         NaN         NaN     事业单位  \n",
      "43         NaN         NaN     家庭主妇  \n",
      "44         NaN         NaN     家庭主妇  \n",
      "45         NaN         NaN      公务员  \n",
      "46         NaN         NaN     事业单位  \n",
      "47         NaN         NaN     事业单位  \n",
      "48         NaN         NaN     事业单位  \n",
      "49         NaN         NaN      公务员  \n",
      "50         NaN         NaN       国企  \n",
      "51         NaN         NaN     事业单位  \n",
      "52         NaN         NaN     事业单位  >\n"
     ]
    }
   ],
   "source": [
    "print(df.describe)"
   ]
  },
  {
   "cell_type": "code",
   "execution_count": 4,
   "metadata": {},
   "outputs": [
    {
     "data": {
      "text/plain": [
       "0.2527808448861079"
      ]
     },
     "execution_count": 4,
     "metadata": {},
     "output_type": "execute_result"
    }
   ],
   "source": [
    "tau_y = mytools.goodmanKruska_tau_y(df,'父亲职业重新编码','母亲职业重新编码')\n",
    "tau_y"
   ]
  },
  {
   "cell_type": "code",
   "execution_count": 5,
   "metadata": {},
   "outputs": [
    {
     "data": {
      "text/plain": [
       "'弱相关'"
      ]
     },
     "execution_count": 5,
     "metadata": {},
     "output_type": "execute_result"
    }
   ],
   "source": [
    "mytools.相关系数强弱判断(tau_y)"
   ]
  },
  {
   "cell_type": "code",
   "execution_count": 6,
   "metadata": {},
   "outputs": [
    {
     "data": {
      "image/png": "[encoded data removed]",
      "text/plain": [
       "<Figure size 640x480 with 1 Axes>"
      ]
     },
     "metadata": {},
     "output_type": "display_data"
    }
   ],
   "source": [
    "def create_pie_chart(x,y):\n",
    "    x = df['父亲职业重新编码'].value_counts().index\n",
    "y = df['父亲职业重新编码'].value_counts(normalize=True)\n",
    "fig,ax1 = plt.subplots()\n",
    "label = df['父亲职业重新编码'].value_counts().index\n",
    "ax1.pie(y,autopct='%1.1f%%', textprops=dict(color=\"black\"))\n",
    "plt.show()"
   ]
  },
  {
   "cell_type": "code",
   "execution_count": 7,
   "metadata": {},
   "outputs": [
    {
     "data": {
      "image/png": "[encoded data removed]",
      "text/plain": [
       "<Figure size 640x480 with 1 Axes>"
      ]
     },
     "metadata": {},
     "output_type": "display_data"
    }
   ],
   "source": [
    "def create_pie_chart(x,y):\n",
    "    x = df['母亲职业重新编码'].value_counts().index\n",
    "y = df['母亲职业重新编码'].value_counts(normalize=True)\n",
    "fig,ax1 = plt.subplots()\n",
    "label = df['母亲职业重新编码'].value_counts().index\n",
    "ax1.pie(y,autopct='%1.1f%%', textprops=dict(color=\"black\"))\n",
    "plt.show()"
   ]
  },
  {
   "cell_type": "code",
   "execution_count": 8,
   "metadata": {},
   "outputs": [
    {
     "data": {
      "text/html": [
       "<div>\n",
       "<style scoped>\n",
       "    .dataframe tbody tr th:only-of-type {\n",
       "        vertical-align: middle;\n",
       "    }\n",
       "\n",
       "    .dataframe tbody tr th {\n",
       "        vertical-align: top;\n",
       "    }\n",
       "\n",
       "    .dataframe thead th {\n",
       "        text-align: right;\n",
       "    }\n",
       "</style>\n",
       "<table border=\"1\" class=\"dataframe\">\n",
       "  <thead>\n",
       "    <tr style=\"text-align: right;\">\n",
       "      <th>母亲职业重新编码</th>\n",
       "      <th>上市民企</th>\n",
       "      <th>个体</th>\n",
       "      <th>事业单位</th>\n",
       "      <th>公务员</th>\n",
       "      <th>国企</th>\n",
       "      <th>家庭主妇</th>\n",
       "      <th>民企</th>\n",
       "      <th>All</th>\n",
       "    </tr>\n",
       "    <tr>\n",
       "      <th>父亲职业重新编码</th>\n",
       "      <th></th>\n",
       "      <th></th>\n",
       "      <th></th>\n",
       "      <th></th>\n",
       "      <th></th>\n",
       "      <th></th>\n",
       "      <th></th>\n",
       "      <th></th>\n",
       "    </tr>\n",
       "  </thead>\n",
       "  <tbody>\n",
       "    <tr>\n",
       "      <th>个体</th>\n",
       "      <td>0.0</td>\n",
       "      <td>0.571429</td>\n",
       "      <td>0.000000</td>\n",
       "      <td>0.0</td>\n",
       "      <td>0.333333</td>\n",
       "      <td>0.307692</td>\n",
       "      <td>0.000000</td>\n",
       "      <td>0.169811</td>\n",
       "    </tr>\n",
       "    <tr>\n",
       "      <th>事业单位</th>\n",
       "      <td>0.0</td>\n",
       "      <td>0.000000</td>\n",
       "      <td>0.333333</td>\n",
       "      <td>0.0</td>\n",
       "      <td>0.333333</td>\n",
       "      <td>0.000000</td>\n",
       "      <td>0.000000</td>\n",
       "      <td>0.113208</td>\n",
       "    </tr>\n",
       "    <tr>\n",
       "      <th>公务员</th>\n",
       "      <td>0.5</td>\n",
       "      <td>0.142857</td>\n",
       "      <td>0.533333</td>\n",
       "      <td>0.7</td>\n",
       "      <td>0.333333</td>\n",
       "      <td>0.000000</td>\n",
       "      <td>0.333333</td>\n",
       "      <td>0.358491</td>\n",
       "    </tr>\n",
       "    <tr>\n",
       "      <th>国企</th>\n",
       "      <td>0.5</td>\n",
       "      <td>0.142857</td>\n",
       "      <td>0.000000</td>\n",
       "      <td>0.0</td>\n",
       "      <td>0.000000</td>\n",
       "      <td>0.000000</td>\n",
       "      <td>0.333333</td>\n",
       "      <td>0.056604</td>\n",
       "    </tr>\n",
       "    <tr>\n",
       "      <th>家庭主夫</th>\n",
       "      <td>0.0</td>\n",
       "      <td>0.000000</td>\n",
       "      <td>0.000000</td>\n",
       "      <td>0.1</td>\n",
       "      <td>0.000000</td>\n",
       "      <td>0.153846</td>\n",
       "      <td>0.000000</td>\n",
       "      <td>0.056604</td>\n",
       "    </tr>\n",
       "    <tr>\n",
       "      <th>民企</th>\n",
       "      <td>0.0</td>\n",
       "      <td>0.142857</td>\n",
       "      <td>0.133333</td>\n",
       "      <td>0.2</td>\n",
       "      <td>0.000000</td>\n",
       "      <td>0.538462</td>\n",
       "      <td>0.333333</td>\n",
       "      <td>0.245283</td>\n",
       "    </tr>\n",
       "  </tbody>\n",
       "</table>\n",
       "</div>"
      ],
      "text/plain": [
       "母亲职业重新编码  上市民企        个体      事业单位  公务员        国企      家庭主妇        民企  \\\n",
       "父亲职业重新编码                                                                \n",
       "个体         0.0  0.571429  0.000000  0.0  0.333333  0.307692  0.000000   \n",
       "事业单位       0.0  0.000000  0.333333  0.0  0.333333  0.000000  0.000000   \n",
       "公务员        0.5  0.142857  0.533333  0.7  0.333333  0.000000  0.333333   \n",
       "国企         0.5  0.142857  0.000000  0.0  0.000000  0.000000  0.333333   \n",
       "家庭主夫       0.0  0.000000  0.000000  0.1  0.000000  0.153846  0.000000   \n",
       "民企         0.0  0.142857  0.133333  0.2  0.000000  0.538462  0.333333   \n",
       "\n",
       "母亲职业重新编码       All  \n",
       "父亲职业重新编码            \n",
       "个体        0.169811  \n",
       "事业单位      0.113208  \n",
       "公务员       0.358491  \n",
       "国企        0.056604  \n",
       "家庭主夫      0.056604  \n",
       "民企        0.245283  "
      ]
     },
     "execution_count": 8,
     "metadata": {},
     "output_type": "execute_result"
    }
   ],
   "source": [
    "mytools.制作交叉表(df,'父亲职业重新编码','母亲职业重新编码')"
   ]
  }
 ],
 "metadata": {
  "kernelspec": {
   "display_name": "Python 3",
   "language": "python",
   "name": "python3"
  },
  "language_info": {
   "codemirror_mode": {
    "name": "ipython",
    "version": 3
   },
   "file_extension": ".py",
   "mimetype": "text/x-python",
   "name": "python",
   "nbconvert_exporter": "python",
   "pygments_lexer": "ipython3",
   "version": "3.8.10"
  }
 },
 "nbformat": 4,
 "nbformat_minor": 2
}
