{
 "cells": [
  {
   "cell_type": "markdown",
   "metadata": {},
   "source": [
    "#变量生成\n",
    "\n",
    "通常情况下，我们分析由调查问卷收集得到数据时，需要将多个题项进行合并，生成某个变量在特定维度的值。合并题项的时候，一定要保证题项的方向是一致的。\n",
    "\n",
    "![变量的维度与题项](Snipaste_2023-12-14_11-49-51.png)\n",
    "![民法](https://gd-hbimg.huaban.com/45a54cf17ad7ca3fd59ff3062591e47dd17e02ff5ed94-xs48C0_fw658webp)"
   ]
  },
  {
   "cell_type": "code",
   "execution_count": 1,
   "metadata": {},
   "outputs": [],
   "source": [
    "import pandas as pd\n",
    "import mytools"
   ]
  },
  {
   "cell_type": "code",
   "execution_count": 2,
   "metadata": {},
   "outputs": [
    {
     "data": {
      "text/plain": [
       "Index(['问卷编号', '调查员', '民族', '政治面貌', '年级', '典型中国人', '中国人特点', 'v1', 'v2', 'v3',\n",
       "       'v4', '你是否了解重活民族的传统节日', 'v5', '您觉得中国怎么样', '您认为中国有多少值得自豪的地方',\n",
       "       '您认为世界有多少比例的人尊重中国', '对您而言作为一名中国人有多重要', '会以中国人自豪吗', '会隐瞒身份吗', '会打多少分',\n",
       "       '国歌升起', '世博会', '中国传统文化', '发展信心', '你会为中国运动员呐喊助威', '遇到灾难时中国人应该伸出援手',\n",
       "       '你愿意加入其他国籍吗', '中国人要为祖国统一奋斗吗'],\n",
       "      dtype='object')"
      ]
     },
     "execution_count": 2,
     "metadata": {},
     "output_type": "execute_result"
    }
   ],
   "source": [
    "数据表 = mytools.读取SPSS数据文件(R'data\\identity.sav')\n",
    "数据表.columns"
   ]
  },
  {
   "cell_type": "code",
   "execution_count": 3,
   "metadata": {},
   "outputs": [
    {
     "data": {
      "text/plain": [
       "0      1\n",
       "1      4\n",
       "2      3\n",
       "3      3\n",
       "4      4\n",
       "      ..\n",
       "900   -1\n",
       "901   -1\n",
       "902   -1\n",
       "903   -1\n",
       "904   -1\n",
       "Length: 905, dtype: int8"
      ]
     },
     "execution_count": 3,
     "metadata": {},
     "output_type": "execute_result"
    }
   ],
   "source": [
    "数据表.中国人要为祖国统一奋斗吗.cat.codes"
   ]
  },
  {
   "cell_type": "code",
   "execution_count": 4,
   "metadata": {},
   "outputs": [],
   "source": [
    "数据表['会隐瞒身份吗'] = 数据表['您认为世界有多少比例的人尊重中国'].cat.codes+数据表['对您而言作为一名中国人有多重要'].cat.codes + 数据表['遇到灾难时中国人应该伸出援手'].cat.codes"
   ]
  }
 ],
 "metadata": {
  "kernelspec": {
   "display_name": "Python 3",
   "language": "python",
   "name": "python3"
  },
  "language_info": {
   "codemirror_mode": {
    "name": "ipython",
    "version": 3
   },
   "file_extension": ".py",
   "mimetype": "text/x-python",
   "name": "python",
   "nbconvert_exporter": "python",
   "pygments_lexer": "ipython3",
   "version": "3.8.10"
  }
 },
 "nbformat": 4,
 "nbformat_minor": 2
}
