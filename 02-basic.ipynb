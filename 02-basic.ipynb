{
 "cells": [
  {
   "cell_type": "code",
   "execution_count": 12,
   "metadata": {},
   "outputs": [
    {
     "data": {
      "text/plain": [
       "[{'姓名': '许思勤',\n",
       "  '学号': 'p221014505',\n",
       "  'Github仓库地址': 'https://github.com/qqliulian/liulianhao'},\n",
       " {'姓名': '高娴',\n",
       "  '学号': 'P221014587',\n",
       "  'Github仓库地址': 'https://github.com/gx530381/gxx'},\n",
       " {'姓名': '周茂',\n",
       "  '学号': 'P221014674',\n",
       "  'Github仓库地址': 'https://github.com/zzzzzmyou/1'},\n",
       " {'姓名': '古颜',\n",
       "  '学号': 'P221014641',\n",
       "  'Github仓库地址': 'https://github.com/luohuazhanbaiyi/111'},\n",
       " {'姓名': '颜慈',\n",
       "  '学号': 'P221014638',\n",
       "  'Github仓库地址': 'https://github.com/Yuxikkk/yyyc'},\n",
       " {'姓名': '帕提古丽',\n",
       "  '学号': 'P221014711',\n",
       "  'Github仓库地址': 'https://github.com/ptgl123/ptgl0000.git'},\n",
       " {'姓名': '刘德鑫',\n",
       "  '学号': 'P221014687',\n",
       "  'Github仓库地址': 'https://github.com/echo-2023chess/luxuriant.git'},\n",
       " {'姓名': '阿依图提古丽·努尔买买提',\n",
       "  '学号': 'P221016159',\n",
       "  'Github仓库地址': 'https://github.com/ayttgl/abc'},\n",
       " {'姓名': '马晓琬',\n",
       "  '学号': 'P221014487',\n",
       "  'Github仓库地址': 'https://github.com/abmxw/yori'},\n",
       " {'姓名': '拉巴曲措',\n",
       "  '学号': 'P221014494',\n",
       "  'Github仓库地址': 'https://github.com/rryy445566hh/tyujio9007'},\n",
       " {'姓名': '秦文雅',\n",
       "  '学号': 'P221014633',\n",
       "  'Github仓库地址': 'https://github.com/qinwenya/2017668014-qq.com'},\n",
       " {'姓名': '   古丽妮尕尔',\n",
       "  '学号': 'P221016162',\n",
       "  'Github仓库地址': 'https://github.com/3325517452/6841'},\n",
       " {'姓名': '杨秀萱',\n",
       "  '学号': 'P221014427',\n",
       "  'Github仓库地址': 'https://github.com/guirsnguise/wafagvg'},\n",
       " {'姓名': '尼玛拉珍',\n",
       "  '学号': 'P221014578',\n",
       "  'Github仓库地址': 'https://github.com/131708675/HOME'},\n",
       " {'姓名': '李秋梅',\n",
       "  '学号': 'P221014672',\n",
       "  'Github仓库地址': 'https://github.com/3053063553/pythonzuoye.git'},\n",
       " {'姓名': '徐睿鲲',\n",
       "  '学号': 'P221014520',\n",
       "  'Github仓库地址': 'https://github.com/huuggu/xuanxiu'},\n",
       " {'姓名': '罗青云',\n",
       "  '学号': 'P221014479',\n",
       "  'Github仓库地址': 'https://github.com/laoma12/home/commit/79ac562a2884e647ca06b2d71291cafb90672c8f'},\n",
       " {'姓名': '徐艳丽',\n",
       "  '学号': 'P221014516',\n",
       "  'Github仓库地址': 'https://github.com/Xuyanli-Hub/xuyanli'},\n",
       " {'姓名': '林家宇·',\n",
       "  '学号': 'P221014584',\n",
       "  'Github仓库地址': 'https://github.com/puishing/12345'},\n",
       " {'姓名': '格珍',\n",
       "  '学号': 'P221014664',\n",
       "  'Github仓库地址': 'https://github.com/defywgvucwhv/defywgvucwhv'},\n",
       " {'姓名': '古颜',\n",
       "  '学号': 'P221014641',\n",
       "  'Github仓库地址': 'https://github.com/luohuazhanbaiyi/hahaha'},\n",
       " {'姓名': '周茂',\n",
       "  '学号': 'P221014674',\n",
       "  'Github仓库地址': 'https://github.com/zzzzzmyou/zzzzzmyou1'},\n",
       " {'姓名': '龙舒晴',\n",
       "  '学号': 'P221014472',\n",
       "  'Github仓库地址': 'https://github.com/554108/lugetel'},\n",
       " {'姓名': '张峰硕',\n",
       "  '学号': 'p221014481',\n",
       "  'Github仓库地址': 'https://github.com/LitangGuailing/Litang.git'},\n",
       " {'姓名': '单梅',\n",
       "  '学号': 'P221014627',\n",
       "  'Github仓库地址': 'https://github.com/910318830/33'},\n",
       " {'姓名': '李佳佳',\n",
       "  '学号': 'P221014595',\n",
       "  'Github仓库地址': 'https://github.com/2012644838/homework'},\n",
       " {'姓名': '拉巴曲措',\n",
       "  '学号': 'P221014494',\n",
       "  'Github仓库地址': 'https://github.com/rryy445566hh/tyujio9007'},\n",
       " {'姓名': '德丽巴尔·叶尔肯',\n",
       "  '学号': 'P221016193',\n",
       "  'Github仓库地址': 'https://github.com/hulihutuao/dhomework'},\n",
       " {'姓名': '蒙昱婕',\n",
       "  '学号': 'P221014684',\n",
       "  'Github仓库地址': 'https://github.com/D5renge/mengyujie.git'},\n",
       " {'姓名': '杜古尔加甫·莎仁图娅',\n",
       "  '学号': 'P221014710',\n",
       "  'Github仓库地址': 'https://github.com/sharentuya/sharentuya.git'},\n",
       " {'姓名': '张雨婷',\n",
       "  '学号': 'P221014682',\n",
       "  'Github仓库地址': 'https://github.com/zythyszyq/hello.git'},\n",
       " {'姓名': '李媛媛',\n",
       "  '学号': 'P221014566',\n",
       "  'Github仓库地址': 'https://github.com/02Yyli/liy7uanyuan'},\n",
       " {'姓名': '马君兰',\n",
       "  '学号': 'P221014486',\n",
       "  'Github仓库地址': 'https://github.com/majunlan/aynnnnar'},\n",
       " {'姓名': '姜雨廷',\n",
       "  '学号': 'P221014653',\n",
       "  'Github仓库地址': 'https://github.com/Comlimen/Clementine'},\n",
       " {'姓名': '李春阳',\n",
       "  '学号': 'P221014716',\n",
       "  'Github仓库地址': 'https://github.com/edg7777777/edg7777777'},\n",
       " {'姓名': '石文静',\n",
       "  '学号': 'P221014712',\n",
       "  'Github仓库地址': 'https://github.com/wenjing999/wenjing'},\n",
       " {'姓名': '古颜',\n",
       "  '学号': 'P221014641',\n",
       "  'Github仓库地址': 'https://github.com/luohuazhanbaiyi/hahaha'},\n",
       " {'姓名': '王倩',\n",
       "  '学号': 'P221014474',\n",
       "  'Github仓库地址': 'https://github.com/lingjunji/statistic-2021'},\n",
       " {'姓名': '韦亚琦',\n",
       "  '学号': 'P221014597',\n",
       "  'Github仓库地址': 'https://github.com/weiyaqi1123/3289834600'},\n",
       " {'姓名': '钟丽丽',\n",
       "  '学号': 'P221014598',\n",
       "  'Github仓库地址': 'https://github.com/9zll/cat.git'},\n",
       " {'姓名': '程超',\n",
       "  '学号': 'P221014642',\n",
       "  'Github仓库地址': 'https://github.com/chengchao12/chao'},\n",
       " {'姓名': '张骞月',\n",
       "  '学号': 'P221014696',\n",
       "  'Github仓库地址': 'https://github.com/bbii00/bbii'},\n",
       " {'姓名': '马小龙',\n",
       "  '学号': 'p221014680',\n",
       "  'Github仓库地址': 'https://github.com/maxiao999/maxiao'},\n",
       " {'姓名': '徐靖哲',\n",
       "  '学号': 'P221014695',\n",
       "  'Github仓库地址': 'https://github.com/LiTangWang6/LiTang'},\n",
       " {'姓名': '马心仪',\n",
       "  '学号': 'P221014655',\n",
       "  'Github仓库地址': 'https://github.com/manshukesi/momo'},\n",
       " {'姓名': '赵咪',\n",
       "  '学号': 'P221014589',\n",
       "  'Github仓库地址': 'https://github.com/amor0613/7homework'},\n",
       " {'姓名': '付竹',\n",
       "  '学号': 'P221014482',\n",
       "  'Github仓库地址': 'https://github.com/yiyanglaurel/new-one'},\n",
       " {'姓名': '莫崧晟',\n",
       "  '学号': 'P221014683',\n",
       "  'Github仓库地址': 'https://github.com/mosongsheng/mm'},\n",
       " {'姓名': '陈金玲',\n",
       "  '学号': 'P221014689',\n",
       "  'Github仓库地址': 'https://github.com/Chenling2580/homework.git'},\n",
       " {'姓名': '田旋',\n",
       "  '学号': 'P221014650',\n",
       "  'Github仓库地址': 'https://github.com/2585615815/homework.git'},\n",
       " {'姓名': '王佳陆',\n",
       "  '学号': 'P221014700',\n",
       "  'Github仓库地址': 'https://gitee.com/lovewangyuan/lovewangyuan.git'},\n",
       " {'姓名': '张穆紫',\n",
       "  '学号': 'P221014693',\n",
       "  'Github仓库地址': 'https://github.com/1065953416/homework.git'},\n",
       " {'姓名': '蓝苡榕',\n",
       "  '学号': 'P221014511',\n",
       "  'Github仓库地址': 'https://github.com/lanyirongacyl/statistic'},\n",
       " {'姓名': '李昱佳',\n",
       "  '学号': 'P221014631',\n",
       "  'Github仓库地址': 'https://github.com/neodreamcity/nct2023'},\n",
       " {'姓名': '德央',\n",
       "  '学号': 'P221014580',\n",
       "  'Github仓库地址': 'https://github.com/638638/home'},\n",
       " {'姓名': '付竹',\n",
       "  '学号': 'P221014482',\n",
       "  'Github仓库地址': 'https://github.com/yiyanglaurel/new-one'},\n",
       " {'姓名': '杜晓涵',\n",
       "  '学号': 'P221014618',\n",
       "  'Github仓库地址': 'https://github.com/1223351431/AnnCLOUDS'},\n",
       " {'姓名': '马心仪',\n",
       "  '学号': 'P221014655',\n",
       "  'Github仓库地址': 'https://github.com/manshukesi/momo.git'},\n",
       " {'姓名': '迪拉热·凯撒尔',\n",
       "  '学号': 'P221014586',\n",
       "  'Github仓库地址': 'https://github.com/3031088667/supreme-broccoli'},\n",
       " {'姓名': '李媛媛',\n",
       "  '学号': 'P221014566',\n",
       "  'Github仓库地址': 'https://github.com/02Yyli/liy7uanyuan.git'},\n",
       " {'姓名': '余静怡',\n",
       "  '学号': 'P221014461',\n",
       "  'Github仓库地址': 'https://github.com/yujingyi11/kitty'},\n",
       " {'姓名': '刘占森',\n",
       "  '学号': 'P221014508',\n",
       "  'Github仓库地址': 'https://github.com/Anbnann/homework'},\n",
       " {'姓名': '马君兰',\n",
       "  '学号': 'P221014486',\n",
       "  'Github仓库地址': 'https://github.com/majunlan/aynnnar.git'},\n",
       " {'姓名': '赵美亮',\n",
       "  '学号': 'P221014502',\n",
       "  'Github仓库地址': ' https://github.com/zhaomeiliang/homework.git'},\n",
       " {'姓名': '马晓琬',\n",
       "  '学号': 'P221014487',\n",
       "  'Github仓库地址': 'https://github.com/abmxw/yori'},\n",
       " {'姓名': '陈好',\n",
       "  '学号': 'P221014490',\n",
       "  'Github仓库地址': 'https://github.com/vcvgv/vcvgv'},\n",
       " {'姓名': '刘佳伊',\n",
       "  '学号': 'P221014541',\n",
       "  'Github仓库地址': 'https://github.com/Katherine789/2023.8.30'},\n",
       " {'姓名': '万栩恺',\n",
       "  '学号': 'P221014515',\n",
       "  'Github仓库地址': 'https://github.com/522564718/van'},\n",
       " {'姓名': '徐文佩',\n",
       "  '学号': 'P221014478',\n",
       "  'Github仓库地址': 'https://github.com/nigudinzhen/nigudinzhen.git'},\n",
       " {'姓名': '左日古丽白克',\n",
       "  '学号': 'P221014539',\n",
       "  'Github仓库地址': 'https://github.com/zori0815/paaaa.git'},\n",
       " {'姓名': '司诺',\n",
       "  '学号': 'P220914024',\n",
       "  'Github仓库地址': 'https://github.com/OSBORRRN/SINOOO'},\n",
       " {'姓名': '艾丽菲热·艾尔肯',\n",
       "  '学号': 'P221014543',\n",
       "  'Github仓库地址': 'https://github.com/deeeeeeeeeer/alfira'},\n",
       " {'姓名': '刘露',\n",
       "  '学号': 'P221014513',\n",
       "  'Github仓库地址': 'https://github.com/Liuxiyayuan/liuchaoqian'},\n",
       " {'姓名': '徐艳丽',\n",
       "  '学号': 'P221014516',\n",
       "  'Github仓库地址': 'https://github.com/Xuyanli-Hub/xuyanli'},\n",
       " {'姓名': '潘莹莹',\n",
       "  '学号': 'P221014510',\n",
       "  'Github仓库地址': 'https://github.com/Penny39/panny.git'},\n",
       " {'姓名': '张亚君',\n",
       "  '学号': 'P221014446',\n",
       "  'Github仓库地址': 'https://github.com/zyj031214/zqlwx'},\n",
       " {'姓名': '马枫羽',\n",
       "  '学号': 'P221014542',\n",
       "  'Github仓库地址': 'https://github.com/MaFengyu/mfy'},\n",
       " {'姓名': '许飞菲',\n",
       "  '学号': 'P221014424',\n",
       "  'Github仓库地址': 'https://github.com/xffei/repos'},\n",
       " {'姓名': '艾克丹',\n",
       "  '学号': 'p221014452',\n",
       "  'Github仓库地址': 'https://github.com/akida2/AKIDA1'},\n",
       " {'姓名': '张峰硕',\n",
       "  '学号': 'P221014481',\n",
       "  'Github仓库地址': 'https://github.com/LitangGuailing/Litang.git'},\n",
       " {'姓名': '罗青云',\n",
       "  '学号': 'P221014479',\n",
       "  'Github仓库地址': 'https://github.com/laoma12/home'},\n",
       " {'姓名': '余静怡',\n",
       "  '学号': 'P221014461',\n",
       "  'Github仓库地址': 'https://github.com/yujingyi11/kitty'},\n",
       " {'姓名': '罗朝婷',\n",
       "  '学号': 'P221014430',\n",
       "  'Github仓库地址': 'https://github.com/zbnxhghg/zbnxhghg'},\n",
       " {'姓名': '史竹然',\n",
       "  '学号': 'P221014439',\n",
       "  'Github仓库地址': 'https://github.com/Lumen1015/Store-2023'},\n",
       " {'姓名': '曾琳',\n",
       "  '学号': 'P221014431',\n",
       "  'Github仓库地址': 'https://github.com/Lnyelnye/cautious-barnacle'},\n",
       " {'姓名': '海雪',\n",
       "  '学号': 'P221014419',\n",
       "  'Github仓库地址': 'https://github.com/shithiy/statistics-2023'},\n",
       " {'姓名': '徐睿鲲',\n",
       "  '学号': 'P221014520',\n",
       "  'Github仓库地址': 'https://github.com/huuggu/xuanxiu'},\n",
       " {'姓名': '刘占森',\n",
       "  '学号': 'P221014508',\n",
       "  'Github仓库地址': 'https://github.com/Anbnann/homework'},\n",
       " {'姓名': '崔益广',\n",
       "  '学号': 'P221014559',\n",
       "  'Github仓库地址': 'https://github.com/Anuibmlcu/cuizero'},\n",
       " {'姓名': '吴娅蕾',\n",
       "  '学号': 'P221014457',\n",
       "  'Github仓库地址': 'https://github.com/imAShiiiiiii/statistic-2023'},\n",
       " {'姓名': '蓝苡榕',\n",
       "  '学号': 'P221014511',\n",
       "  'Github仓库地址': 'https://github.com/lanyirongacyl/statistic'}]"
      ]
     },
     "execution_count": 12,
     "metadata": {},
     "output_type": "execute_result"
    }
   ],
   "source": [
    "[{'姓名': '许思勤', '学号': 'p221014505', 'Github仓库地址': 'https://github.com/qqliulian/liulianhao'}, {'姓名': '高娴', '学号': 'P221014587', 'Github仓库地址': 'https://github.com/gx530381/gxx'}, {'姓名': '周茂', '学号': 'P221014674', 'Github仓库地址': 'https://github.com/zzzzzmyou/1'}, {'姓名': '古颜', '学号': 'P221014641', 'Github仓库地址': 'https://github.com/luohuazhanbaiyi/111'}, {'姓名': '颜慈', '学号': 'P221014638', 'Github仓库地址': 'https://github.com/Yuxikkk/yyyc'}, {'姓名': '帕提古丽', '学号': 'P221014711', 'Github仓库地址': 'https://github.com/ptgl123/ptgl0000.git'}, {'姓名': '刘德鑫', '学号': 'P221014687', 'Github仓库地址': 'https://github.com/echo-2023chess/luxuriant.git'}, {'姓名': '阿依图提古丽·努尔买买提', '学号': 'P221016159', 'Github仓库地址': 'https://github.com/ayttgl/abc'}, {'姓名': '马晓琬', '学号': 'P221014487', 'Github仓库地址': 'https://github.com/abmxw/yori'}, {'姓名': '拉巴曲措', '学号': 'P221014494', 'Github仓库地址': 'https://github.com/rryy445566hh/tyujio9007'}, {'姓名': '秦文雅', '学号': 'P221014633', 'Github仓库地址': 'https://github.com/qinwenya/2017668014-qq.com'}, {'姓名': '   古丽妮尕尔', '学号': 'P221016162', 'Github仓库地址': 'https://github.com/3325517452/6841'}, {'姓名': '杨秀萱', '学号': 'P221014427', 'Github仓库地址': 'https://github.com/guirsnguise/wafagvg'}, {'姓名': '尼玛拉珍', '学号': 'P221014578', 'Github仓库地址': 'https://github.com/131708675/HOME'}, {'姓名': '李秋梅', '学号': 'P221014672', 'Github仓库地址': 'https://github.com/3053063553/pythonzuoye.git'}, {'姓名': '徐睿鲲', '学号': 'P221014520', 'Github仓库地址': 'https://github.com/huuggu/xuanxiu'}, {'姓名': '罗青云', '学号': 'P221014479', 'Github仓库地址': 'https://github.com/laoma12/home/commit/79ac562a2884e647ca06b2d71291cafb90672c8f'}, {'姓名': '徐艳丽', '学号': 'P221014516', 'Github仓库地址': 'https://github.com/Xuyanli-Hub/xuyanli'}, {'姓名': '林家宇·', '学号': 'P221014584', 'Github仓库地址': 'https://github.com/puishing/12345'}, {'姓名': '格珍', '学号': 'P221014664', 'Github仓库地址': 'https://github.com/defywgvucwhv/defywgvucwhv'}, {'姓名': '古颜', '学号': 'P221014641', 'Github仓库地址': 'https://github.com/luohuazhanbaiyi/hahaha'}, {'姓名': '周茂', '学号': 'P221014674', 'Github仓库地址': 'https://github.com/zzzzzmyou/zzzzzmyou1'}, {'姓名': '龙舒晴', '学号': 'P221014472', 'Github仓库地址': 'https://github.com/554108/lugetel'}, {'姓名': '张峰硕', '学号': 'p221014481', 'Github仓库地址': 'https://github.com/LitangGuailing/Litang.git'}, {'姓名': '单梅', '学号': 'P221014627', 'Github仓库地址': 'https://github.com/910318830/33'}, {'姓名': '李佳佳', '学号': 'P221014595', 'Github仓库地址': 'https://github.com/2012644838/homework'}, {'姓名': '拉巴曲措', '学号': 'P221014494', 'Github仓库地址': 'https://github.com/rryy445566hh/tyujio9007'}, {'姓名': '德丽巴尔·叶尔肯', '学号': 'P221016193', 'Github仓库地址': 'https://github.com/hulihutuao/dhomework'}, {'姓名': '蒙昱婕', '学号': 'P221014684', 'Github仓库地址': 'https://github.com/D5renge/mengyujie.git'}, {'姓名': '杜古尔加甫·莎仁图娅', '学号': 'P221014710', 'Github仓库地址': 'https://github.com/sharentuya/sharentuya.git'}, {'姓名': '张雨婷', '学号': 'P221014682', 'Github仓库地址': 'https://github.com/zythyszyq/hello.git'}, {'姓名': '李媛媛', '学号': 'P221014566', 'Github仓库地址': 'https://github.com/02Yyli/liy7uanyuan'}, {'姓名': '马君兰', '学号': 'P221014486', 'Github仓库地址': 'https://github.com/majunlan/aynnnnar'}, {'姓名': '姜雨廷', '学号': 'P221014653', 'Github仓库地址': 'https://github.com/Comlimen/Clementine'}, {'姓名': '李春阳', '学号': 'P221014716', 'Github仓库地址': 'https://github.com/edg7777777/edg7777777'}, {'姓名': '石文静', '学号': 'P221014712', 'Github仓库地址': 'https://github.com/wenjing999/wenjing'}, {'姓名': '古颜', '学号': 'P221014641', 'Github仓库地址': 'https://github.com/luohuazhanbaiyi/hahaha'}, {'姓名': '王倩', '学号': 'P221014474', 'Github仓库地址': 'https://github.com/lingjunji/statistic-2021'}, {'姓名': '韦亚琦', '学号': 'P221014597', 'Github仓库地址': 'https://github.com/weiyaqi1123/3289834600'}, {'姓名': '钟丽丽', '学号': 'P221014598', 'Github仓库地址': 'https://github.com/9zll/cat.git'}, {'姓名': '程超', '学号': 'P221014642', 'Github仓库地址': 'https://github.com/chengchao12/chao'}, {'姓名': '张骞月', '学号': 'P221014696', 'Github仓库地址': 'https://github.com/bbii00/bbii'}, {'姓名': '马小龙', '学号': 'p221014680', 'Github仓库地址': 'https://github.com/maxiao999/maxiao'}, {'姓名': '徐靖哲', '学号': 'P221014695', 'Github仓库地址': 'https://github.com/LiTangWang6/LiTang'}, {'姓名': '马心仪', '学号': 'P221014655', 'Github仓库地址': 'https://github.com/manshukesi/momo'}, {'姓名': '赵咪', '学号': 'P221014589', 'Github仓库地址': 'https://github.com/amor0613/7homework'}, {'姓名': '付竹', '学号': 'P221014482', 'Github仓库地址': 'https://github.com/yiyanglaurel/new-one'}, {'姓名': '莫崧晟', '学号': 'P221014683', 'Github仓库地址': 'https://github.com/mosongsheng/mm'}, {'姓名': '陈金玲', '学号': 'P221014689', 'Github仓库地址': 'https://github.com/Chenling2580/homework.git'}, {'姓名': '田旋', '学号': 'P221014650', 'Github仓库地址': 'https://github.com/2585615815/homework.git'}, {'姓名': '王佳陆', '学号': 'P221014700', 'Github仓库地址': 'https://gitee.com/lovewangyuan/lovewangyuan.git'}, {'姓名': '张穆紫', '学号': 'P221014693', 'Github仓库地址': 'https://github.com/1065953416/homework.git'}, {'姓名': '蓝苡榕', '学号': 'P221014511', 'Github仓库地址': 'https://github.com/lanyirongacyl/statistic'}, {'姓名': '李昱佳', '学号': 'P221014631', 'Github仓库地址': 'https://github.com/neodreamcity/nct2023'}, {'姓名': '德央', '学号': 'P221014580', 'Github仓库地址': 'https://github.com/638638/home'}, {'姓名': '付竹', '学号': 'P221014482', 'Github仓库地址': 'https://github.com/yiyanglaurel/new-one'}, {'姓名': '杜晓涵', '学号': 'P221014618', 'Github仓库地址': 'https://github.com/1223351431/AnnCLOUDS'}, {'姓名': '马心仪', '学号': 'P221014655', 'Github仓库地址': 'https://github.com/manshukesi/momo.git'}, {'姓名': '迪拉热·凯撒尔', '学号': 'P221014586', 'Github仓库地址': 'https://github.com/3031088667/supreme-broccoli'}, {'姓名': '李媛媛', '学号': 'P221014566', 'Github仓库地址': 'https://github.com/02Yyli/liy7uanyuan.git'}, {'姓名': '余静怡', '学号': 'P221014461', 'Github仓库地址': 'https://github.com/yujingyi11/kitty'}, {'姓名': '刘占森', '学号': 'P221014508', 'Github仓库地址': 'https://github.com/Anbnann/homework'}, {'姓名': '马君兰', '学号': 'P221014486', 'Github仓库地址': 'https://github.com/majunlan/aynnnar.git'}, {'姓名': '赵美亮', '学号': 'P221014502', 'Github仓库地址': ' https://github.com/zhaomeiliang/homework.git'}, {'姓名': '马晓琬', '学号': 'P221014487', 'Github仓库地址': 'https://github.com/abmxw/yori'}, {'姓名': '陈好', '学号': 'P221014490', 'Github仓库地址': 'https://github.com/vcvgv/vcvgv'}, {'姓名': '刘佳伊', '学号': 'P221014541', 'Github仓库地址': 'https://github.com/Katherine789/2023.8.30'}, {'姓名': '万栩恺', '学号': 'P221014515', 'Github仓库地址': 'https://github.com/522564718/van'}, {'姓名': '徐文佩', '学号': 'P221014478', 'Github仓库地址': 'https://github.com/nigudinzhen/nigudinzhen.git'}, {'姓名': '左日古丽白克', '学号': 'P221014539', 'Github仓库地址': 'https://github.com/zori0815/paaaa.git'}, {'姓名': '司诺', '学号': 'P220914024', 'Github仓库地址': 'https://github.com/OSBORRRN/SINOOO'}, {'姓名': '艾丽菲热·艾尔肯', '学号': 'P221014543', 'Github仓库地址': 'https://github.com/deeeeeeeeeer/alfira'}, {'姓名': '刘露', '学号': 'P221014513', 'Github仓库地址': 'https://github.com/Liuxiyayuan/liuchaoqian'}, {'姓名': '徐艳丽', '学号': 'P221014516', 'Github仓库地址': 'https://github.com/Xuyanli-Hub/xuyanli'}, {'姓名': '潘莹莹', '学号': 'P221014510', 'Github仓库地址': 'https://github.com/Penny39/panny.git'}, {'姓名': '张亚君', '学号': 'P221014446', 'Github仓库地址': 'https://github.com/zyj031214/zqlwx'}, {'姓名': '马枫羽', '学号': 'P221014542', 'Github仓库地址': 'https://github.com/MaFengyu/mfy'}, {'姓名': '许飞菲', '学号': 'P221014424', 'Github仓库地址': 'https://github.com/xffei/repos'}, {'姓名': '艾克丹', '学号': 'p221014452', 'Github仓库地址': 'https://github.com/akida2/AKIDA1'}, {'姓名': '张峰硕', '学号': 'P221014481', 'Github仓库地址': 'https://github.com/LitangGuailing/Litang.git'}, {'姓名': '罗青云', '学号': 'P221014479', 'Github仓库地址': 'https://github.com/laoma12/home'}, {'姓名': '余静怡', '学号': 'P221014461', 'Github仓库地址': 'https://github.com/yujingyi11/kitty'}, {'姓名': '罗朝婷', '学号': 'P221014430', 'Github仓库地址': 'https://github.com/zbnxhghg/zbnxhghg'}, {'姓名': '史竹然', '学号': 'P221014439', 'Github仓库地址': 'https://github.com/Lumen1015/Store-2023'}, {'姓名': '曾琳', '学号': 'P221014431', 'Github仓库地址': 'https://github.com/Lnyelnye/cautious-barnacle'}, {'姓名': '海雪', '学号': 'P221014419', 'Github仓库地址': 'https://github.com/shithiy/statistics-2023'}, {'姓名': '徐睿鲲', '学号': 'P221014520', 'Github仓库地址': 'https://github.com/huuggu/xuanxiu'}, {'姓名': '刘占森', '学号': 'P221014508', 'Github仓库地址': 'https://github.com/Anbnann/homework'}, {'姓名': '崔益广', '学号': 'P221014559', 'Github仓库地址': 'https://github.com/Anuibmlcu/cuizero'}, {'姓名': '吴娅蕾', '学号': 'P221014457', 'Github仓库地址': 'https://github.com/imAShiiiiiii/statistic-2023'}, {'姓名': '蓝苡榕', '学号': 'P221014511', 'Github仓库地址': 'https://github.com/lanyirongacyl/statistic'}]\n"
   ]
  },
  {
   "cell_type": "code",
   "execution_count": 2,
   "metadata": {},
   "outputs": [],
   "source": [
    "import pandas as pd"
   ]
  },
  {
   "cell_type": "code",
   "execution_count": 4,
   "metadata": {},
   "outputs": [],
   "source": [
    "原始数据 = R'000_《统计与数据分析》课程第一次作业收集_提交统计.xlsx'\n",
    "工作表 = '提交清单'\n",
    "列名列表 = ['姓名','学号','Github仓库地址']"
   ]
  },
  {
   "cell_type": "code",
   "execution_count": 5,
   "metadata": {},
   "outputs": [],
   "source": [
    "df = pd.read_excel(原始数据,sheet_name=工作表,usecols=列名列表)"
   ]
  },
  {
   "cell_type": "code",
   "execution_count": 7,
   "metadata": {},
   "outputs": [],
   "source": [
    "学生信息 = df.to_dict(orient='records')"
   ]
  },
  {
   "cell_type": "code",
   "execution_count": 8,
   "metadata": {},
   "outputs": [
    {
     "name": "stdout",
     "output_type": "stream",
     "text": [
      "[{'姓名': '许思勤', '学号': 'p221014505', 'Github仓库地址': 'https://github.com/qqliulian/liulianhao'}, {'姓名': '高娴', '学号': 'P221014587', 'Github仓库地址': 'https://github.com/gx530381/gxx'}, {'姓名': '周茂', '学号': 'P221014674', 'Github仓库地址': 'https://github.com/zzzzzmyou/1'}, {'姓名': '古颜', '学号': 'P221014641', 'Github仓库地址': 'https://github.com/luohuazhanbaiyi/111'}, {'姓名': '颜慈', '学号': 'P221014638', 'Github仓库地址': 'https://github.com/Yuxikkk/yyyc'}, {'姓名': '帕提古丽', '学号': 'P221014711', 'Github仓库地址': 'https://github.com/ptgl123/ptgl0000.git'}, {'姓名': '刘德鑫', '学号': 'P221014687', 'Github仓库地址': 'https://github.com/echo-2023chess/luxuriant.git'}, {'姓名': '阿依图提古丽·努尔买买提', '学号': 'P221016159', 'Github仓库地址': 'https://github.com/ayttgl/abc'}, {'姓名': '马晓琬', '学号': 'P221014487', 'Github仓库地址': 'https://github.com/abmxw/yori'}, {'姓名': '拉巴曲措', '学号': 'P221014494', 'Github仓库地址': 'https://github.com/rryy445566hh/tyujio9007'}, {'姓名': '秦文雅', '学号': 'P221014633', 'Github仓库地址': 'https://github.com/qinwenya/2017668014-qq.com'}, {'姓名': '   古丽妮尕尔', '学号': 'P221016162', 'Github仓库地址': 'https://github.com/3325517452/6841'}, {'姓名': '杨秀萱', '学号': 'P221014427', 'Github仓库地址': 'https://github.com/guirsnguise/wafagvg'}, {'姓名': '尼玛拉珍', '学号': 'P221014578', 'Github仓库地址': 'https://github.com/131708675/HOME'}, {'姓名': '李秋梅', '学号': 'P221014672', 'Github仓库地址': 'https://github.com/3053063553/pythonzuoye.git'}, {'姓名': '徐睿鲲', '学号': 'P221014520', 'Github仓库地址': 'https://github.com/huuggu/xuanxiu'}, {'姓名': '罗青云', '学号': 'P221014479', 'Github仓库地址': 'https://github.com/laoma12/home/commit/79ac562a2884e647ca06b2d71291cafb90672c8f'}, {'姓名': '徐艳丽', '学号': 'P221014516', 'Github仓库地址': 'https://github.com/Xuyanli-Hub/xuyanli'}, {'姓名': '林家宇·', '学号': 'P221014584', 'Github仓库地址': 'https://github.com/puishing/12345'}, {'姓名': '格珍', '学号': 'P221014664', 'Github仓库地址': 'https://github.com/defywgvucwhv/defywgvucwhv'}, {'姓名': '古颜', '学号': 'P221014641', 'Github仓库地址': 'https://github.com/luohuazhanbaiyi/hahaha'}, {'姓名': '周茂', '学号': 'P221014674', 'Github仓库地址': 'https://github.com/zzzzzmyou/zzzzzmyou1'}, {'姓名': '龙舒晴', '学号': 'P221014472', 'Github仓库地址': 'https://github.com/554108/lugetel'}, {'姓名': '张峰硕', '学号': 'p221014481', 'Github仓库地址': 'https://github.com/LitangGuailing/Litang.git'}, {'姓名': '单梅', '学号': 'P221014627', 'Github仓库地址': 'https://github.com/910318830/33'}, {'姓名': '李佳佳', '学号': 'P221014595', 'Github仓库地址': 'https://github.com/2012644838/homework'}, {'姓名': '拉巴曲措', '学号': 'P221014494', 'Github仓库地址': 'https://github.com/rryy445566hh/tyujio9007'}, {'姓名': '德丽巴尔·叶尔肯', '学号': 'P221016193', 'Github仓库地址': 'https://github.com/hulihutuao/dhomework'}, {'姓名': '蒙昱婕', '学号': 'P221014684', 'Github仓库地址': 'https://github.com/D5renge/mengyujie.git'}, {'姓名': '杜古尔加甫·莎仁图娅', '学号': 'P221014710', 'Github仓库地址': 'https://github.com/sharentuya/sharentuya.git'}, {'姓名': '张雨婷', '学号': 'P221014682', 'Github仓库地址': 'https://github.com/zythyszyq/hello.git'}, {'姓名': '李媛媛', '学号': 'P221014566', 'Github仓库地址': 'https://github.com/02Yyli/liy7uanyuan'}, {'姓名': '马君兰', '学号': 'P221014486', 'Github仓库地址': 'https://github.com/majunlan/aynnnnar'}, {'姓名': '姜雨廷', '学号': 'P221014653', 'Github仓库地址': 'https://github.com/Comlimen/Clementine'}, {'姓名': '李春阳', '学号': 'P221014716', 'Github仓库地址': 'https://github.com/edg7777777/edg7777777'}, {'姓名': '石文静', '学号': 'P221014712', 'Github仓库地址': 'https://github.com/wenjing999/wenjing'}, {'姓名': '古颜', '学号': 'P221014641', 'Github仓库地址': 'https://github.com/luohuazhanbaiyi/hahaha'}, {'姓名': '王倩', '学号': 'P221014474', 'Github仓库地址': 'https://github.com/lingjunji/statistic-2021'}, {'姓名': '韦亚琦', '学号': 'P221014597', 'Github仓库地址': 'https://github.com/weiyaqi1123/3289834600'}, {'姓名': '钟丽丽', '学号': 'P221014598', 'Github仓库地址': 'https://github.com/9zll/cat.git'}, {'姓名': '程超', '学号': 'P221014642', 'Github仓库地址': 'https://github.com/chengchao12/chao'}, {'姓名': '张骞月', '学号': 'P221014696', 'Github仓库地址': 'https://github.com/bbii00/bbii'}, {'姓名': '马小龙', '学号': 'p221014680', 'Github仓库地址': 'https://github.com/maxiao999/maxiao'}, {'姓名': '徐靖哲', '学号': 'P221014695', 'Github仓库地址': 'https://github.com/LiTangWang6/LiTang'}, {'姓名': '马心仪', '学号': 'P221014655', 'Github仓库地址': 'https://github.com/manshukesi/momo'}, {'姓名': '赵咪', '学号': 'P221014589', 'Github仓库地址': 'https://github.com/amor0613/7homework'}, {'姓名': '付竹', '学号': 'P221014482', 'Github仓库地址': 'https://github.com/yiyanglaurel/new-one'}, {'姓名': '莫崧晟', '学号': 'P221014683', 'Github仓库地址': 'https://github.com/mosongsheng/mm'}, {'姓名': '陈金玲', '学号': 'P221014689', 'Github仓库地址': 'https://github.com/Chenling2580/homework.git'}, {'姓名': '田旋', '学号': 'P221014650', 'Github仓库地址': 'https://github.com/2585615815/homework.git'}, {'姓名': '王佳陆', '学号': 'P221014700', 'Github仓库地址': 'https://gitee.com/lovewangyuan/lovewangyuan.git'}, {'姓名': '张穆紫', '学号': 'P221014693', 'Github仓库地址': 'https://github.com/1065953416/homework.git'}, {'姓名': '蓝苡榕', '学号': 'P221014511', 'Github仓库地址': 'https://github.com/lanyirongacyl/statistic'}, {'姓名': '李昱佳', '学号': 'P221014631', 'Github仓库地址': 'https://github.com/neodreamcity/nct2023'}, {'姓名': '德央', '学号': 'P221014580', 'Github仓库地址': 'https://github.com/638638/home'}, {'姓名': '付竹', '学号': 'P221014482', 'Github仓库地址': 'https://github.com/yiyanglaurel/new-one'}, {'姓名': '杜晓涵', '学号': 'P221014618', 'Github仓库地址': 'https://github.com/1223351431/AnnCLOUDS'}, {'姓名': '马心仪', '学号': 'P221014655', 'Github仓库地址': 'https://github.com/manshukesi/momo.git'}, {'姓名': '迪拉热·凯撒尔', '学号': 'P221014586', 'Github仓库地址': 'https://github.com/3031088667/supreme-broccoli'}, {'姓名': '李媛媛', '学号': 'P221014566', 'Github仓库地址': 'https://github.com/02Yyli/liy7uanyuan.git'}, {'姓名': '余静怡', '学号': 'P221014461', 'Github仓库地址': 'https://github.com/yujingyi11/kitty'}, {'姓名': '刘占森', '学号': 'P221014508', 'Github仓库地址': 'https://github.com/Anbnann/homework'}, {'姓名': '马君兰', '学号': 'P221014486', 'Github仓库地址': 'https://github.com/majunlan/aynnnar.git'}, {'姓名': '赵美亮', '学号': 'P221014502', 'Github仓库地址': ' https://github.com/zhaomeiliang/homework.git'}, {'姓名': '马晓琬', '学号': 'P221014487', 'Github仓库地址': 'https://github.com/abmxw/yori'}, {'姓名': '陈好', '学号': 'P221014490', 'Github仓库地址': 'https://github.com/vcvgv/vcvgv'}, {'姓名': '刘佳伊', '学号': 'P221014541', 'Github仓库地址': 'https://github.com/Katherine789/2023.8.30'}, {'姓名': '万栩恺', '学号': 'P221014515', 'Github仓库地址': 'https://github.com/522564718/van'}, {'姓名': '徐文佩', '学号': 'P221014478', 'Github仓库地址': 'https://github.com/nigudinzhen/nigudinzhen.git'}, {'姓名': '左日古丽白克', '学号': 'P221014539', 'Github仓库地址': 'https://github.com/zori0815/paaaa.git'}, {'姓名': '司诺', '学号': 'P220914024', 'Github仓库地址': 'https://github.com/OSBORRRN/SINOOO'}, {'姓名': '艾丽菲热·艾尔肯', '学号': 'P221014543', 'Github仓库地址': 'https://github.com/deeeeeeeeeer/alfira'}, {'姓名': '刘露', '学号': 'P221014513', 'Github仓库地址': 'https://github.com/Liuxiyayuan/liuchaoqian'}, {'姓名': '徐艳丽', '学号': 'P221014516', 'Github仓库地址': 'https://github.com/Xuyanli-Hub/xuyanli'}, {'姓名': '潘莹莹', '学号': 'P221014510', 'Github仓库地址': 'https://github.com/Penny39/panny.git'}, {'姓名': '张亚君', '学号': 'P221014446', 'Github仓库地址': 'https://github.com/zyj031214/zqlwx'}, {'姓名': '马枫羽', '学号': 'P221014542', 'Github仓库地址': 'https://github.com/MaFengyu/mfy'}, {'姓名': '许飞菲', '学号': 'P221014424', 'Github仓库地址': 'https://github.com/xffei/repos'}, {'姓名': '艾克丹', '学号': 'p221014452', 'Github仓库地址': 'https://github.com/akida2/AKIDA1'}, {'姓名': '张峰硕', '学号': 'P221014481', 'Github仓库地址': 'https://github.com/LitangGuailing/Litang.git'}, {'姓名': '罗青云', '学号': 'P221014479', 'Github仓库地址': 'https://github.com/laoma12/home'}, {'姓名': '余静怡', '学号': 'P221014461', 'Github仓库地址': 'https://github.com/yujingyi11/kitty'}, {'姓名': '罗朝婷', '学号': 'P221014430', 'Github仓库地址': 'https://github.com/zbnxhghg/zbnxhghg'}, {'姓名': '史竹然', '学号': 'P221014439', 'Github仓库地址': 'https://github.com/Lumen1015/Store-2023'}, {'姓名': '曾琳', '学号': 'P221014431', 'Github仓库地址': 'https://github.com/Lnyelnye/cautious-barnacle'}, {'姓名': '海雪', '学号': 'P221014419', 'Github仓库地址': 'https://github.com/shithiy/statistics-2023'}, {'姓名': '徐睿鲲', '学号': 'P221014520', 'Github仓库地址': 'https://github.com/huuggu/xuanxiu'}, {'姓名': '刘占森', '学号': 'P221014508', 'Github仓库地址': 'https://github.com/Anbnann/homework'}, {'姓名': '崔益广', '学号': 'P221014559', 'Github仓库地址': 'https://github.com/Anuibmlcu/cuizero'}, {'姓名': '吴娅蕾', '学号': 'P221014457', 'Github仓库地址': 'https://github.com/imAShiiiiiii/statistic-2023'}, {'姓名': '蓝苡榕', '学号': 'P221014511', 'Github仓库地址': 'https://github.com/lanyirongacyl/statistic'}]\n"
     ]
    }
   ],
   "source": [
    "print(学生信息)"
   ]
  },
  {
   "cell_type": "code",
   "execution_count": 18,
   "metadata": {},
   "outputs": [
    {
     "name": "stdout",
     "output_type": "stream",
     "text": [
      "https://gitee.com/lovewangyuan/lovewangyuan.git\n"
     ]
    }
   ],
   "source": [
    "for item in 学生信息:\n",
    "    if item[\"姓名\"] == \"王佳陆\":\n",
    "        print(item[\"Github仓库地址\"])"
   ]
  },
  {
   "cell_type": "code",
   "execution_count": 19,
   "metadata": {},
   "outputs": [],
   "source": [
    "def get_github_ur1(student_id,student_list):\n",
    "    for student in student_list:\n",
    "        if student['学号'] == student_id:\n",
    "            return student['Github仓库地址']\n",
    "    return None"
   ]
  },
  {
   "cell_type": "code",
   "execution_count": 20,
   "metadata": {},
   "outputs": [
    {
     "data": {
      "text/plain": [
       "'https://gitee.com/lovewangyuan/lovewangyuan.git'"
      ]
     },
     "execution_count": 20,
     "metadata": {},
     "output_type": "execute_result"
    }
   ],
   "source": [
    "get_github_ur1('P221014700',学生信息)"
   ]
  },
  {
   "cell_type": "code",
   "execution_count": 23,
   "metadata": {},
   "outputs": [],
   "source": [
    "import requests\n",
    "from datetime import datetime"
   ]
  },
  {
   "cell_type": "code",
   "execution_count": 28,
   "metadata": {},
   "outputs": [],
   "source": [
    "def get_push_count(repo_ur1):\n",
    "    api_ur1 = repo_ur1.replace(\"https://github.com\",\"https://api.github.com/repos/\") + \"/commits\"\n",
    "    response = requests.get(api_ur1,verify=False)\n",
    "    data = response.json()\n",
    "    push_count = 0\n",
    "    push_data = None\n",
    "    for commit in data:\n",
    "        commit_time = datetime.strptime(commit['commit']['committer']['date'],'%Y-%m-%dT%H:%M:%SZ')\n",
    "        if push_date is None or commit_time > push_date:\n",
    "            push_date = commit_time\n",
    "            push_count = 1\n",
    "        elif commit_time == push_date:\n",
    "            push_count += 1\n",
    "    return push_count, push_date.strftime(\"%Y-%m-%d\")"
   ]
  },
  {
   "cell_type": "code",
   "execution_count": 29,
   "metadata": {},
   "outputs": [],
   "source": [
    "import requests\n",
    "from datetime import datetime"
   ]
  },
  {
   "cell_type": "code",
   "execution_count": 30,
   "metadata": {},
   "outputs": [],
   "source": [
    "def get_push_time(repo_ur1):\n",
    "    api_ur1 = repo_ur1.replace(\"https://github.com/\",\"https://api.github.com/repos/\")+\"/commits\"\n",
    "    response = requests.get(api_ur1,verify=False)\n",
    "    data = response.json()\n",
    "    push_timea = []\n",
    "    for commit in data:\n",
    "        commit_time = datetime.strptime(commit['commit']['committer']['date'],'%Y-%m-%dT%H:%M:%SZ')\n",
    "        push_times.append(commit_time)\n",
    "    return push_times"
   ]
  },
  {
   "cell_type": "code",
   "execution_count": 42,
   "metadata": {},
   "outputs": [
    {
     "name": "stderr",
     "output_type": "stream",
     "text": [
      "c:\\Users\\HUAWEI\\AppData\\Local\\Programs\\Python\\Python38\\lib\\site-packages\\urllib3\\connectionpool.py:1095: InsecureRequestWarning: Unverified HTTPS request is being made to host 'api.github.com'. Adding certificate verification is strongly advised. See: https://urllib3.readthedocs.io/en/latest/advanced-usage.html#tls-warnings\n",
      "  warnings.warn(\n"
     ]
    },
    {
     "ename": "TypeError",
     "evalue": "string indices must be integers",
     "output_type": "error",
     "traceback": [
      "\u001b[1;31m---------------------------------------------------------------------------\u001b[0m",
      "\u001b[1;31mTypeError\u001b[0m                                 Traceback (most recent call last)",
      "\u001b[1;32mc:\\Users\\HUAWEI\\Desktop\\lovewangyuan2\\02-basic.ipynb 单元格 14\u001b[0m line \u001b[0;36m1\n\u001b[1;32m----> <a href='vscode-notebook-cell:/c%3A/Users/HUAWEI/Desktop/lovewangyuan2/02-basic.ipynb#X26sZmlsZQ%3D%3D?line=0'>1</a>\u001b[0m get_push_count(\u001b[39m'\u001b[39;49m\u001b[39mhttps://github.com/wangjialu/statistic\u001b[39;49m\u001b[39m'\u001b[39;49m)\n",
      "\u001b[1;32mc:\\Users\\HUAWEI\\Desktop\\lovewangyuan2\\02-basic.ipynb 单元格 14\u001b[0m line \u001b[0;36m8\n\u001b[0;32m      <a href='vscode-notebook-cell:/c%3A/Users/HUAWEI/Desktop/lovewangyuan2/02-basic.ipynb#X26sZmlsZQ%3D%3D?line=5'>6</a>\u001b[0m push_data \u001b[39m=\u001b[39m \u001b[39mNone\u001b[39;00m\n\u001b[0;32m      <a href='vscode-notebook-cell:/c%3A/Users/HUAWEI/Desktop/lovewangyuan2/02-basic.ipynb#X26sZmlsZQ%3D%3D?line=6'>7</a>\u001b[0m \u001b[39mfor\u001b[39;00m commit \u001b[39min\u001b[39;00m data:\n\u001b[1;32m----> <a href='vscode-notebook-cell:/c%3A/Users/HUAWEI/Desktop/lovewangyuan2/02-basic.ipynb#X26sZmlsZQ%3D%3D?line=7'>8</a>\u001b[0m     commit_time \u001b[39m=\u001b[39m datetime\u001b[39m.\u001b[39mstrptime(commit[\u001b[39m'\u001b[39;49m\u001b[39mcommit\u001b[39;49m\u001b[39m'\u001b[39;49m][\u001b[39m'\u001b[39m\u001b[39mcommitter\u001b[39m\u001b[39m'\u001b[39m][\u001b[39m'\u001b[39m\u001b[39mdate\u001b[39m\u001b[39m'\u001b[39m],\u001b[39m'\u001b[39m\u001b[39m%\u001b[39m\u001b[39mY-\u001b[39m\u001b[39m%\u001b[39m\u001b[39mm-\u001b[39m\u001b[39m%d\u001b[39;00m\u001b[39mT\u001b[39m\u001b[39m%\u001b[39m\u001b[39mH:\u001b[39m\u001b[39m%\u001b[39m\u001b[39mM:\u001b[39m\u001b[39m%\u001b[39m\u001b[39mSZ\u001b[39m\u001b[39m'\u001b[39m)\n\u001b[0;32m      <a href='vscode-notebook-cell:/c%3A/Users/HUAWEI/Desktop/lovewangyuan2/02-basic.ipynb#X26sZmlsZQ%3D%3D?line=8'>9</a>\u001b[0m     \u001b[39mif\u001b[39;00m push_date \u001b[39mis\u001b[39;00m \u001b[39mNone\u001b[39;00m \u001b[39mor\u001b[39;00m commit_time \u001b[39m>\u001b[39m push_date:\n\u001b[0;32m     <a href='vscode-notebook-cell:/c%3A/Users/HUAWEI/Desktop/lovewangyuan2/02-basic.ipynb#X26sZmlsZQ%3D%3D?line=9'>10</a>\u001b[0m         push_date \u001b[39m=\u001b[39m commit_time\n",
      "\u001b[1;31mTypeError\u001b[0m: string indices must be integers"
     ]
    }
   ],
   "source": [
    "get_push_count('https://github.com/wangjialu/statistic')"
   ]
  },
  {
   "cell_type": "code",
   "execution_count": 43,
   "metadata": {},
   "outputs": [
    {
     "name": "stderr",
     "output_type": "stream",
     "text": [
      "c:\\Users\\HUAWEI\\AppData\\Local\\Programs\\Python\\Python38\\lib\\site-packages\\urllib3\\connectionpool.py:1095: InsecureRequestWarning: Unverified HTTPS request is being made to host 'gitee.com'. Adding certificate verification is strongly advised. See: https://urllib3.readthedocs.io/en/latest/advanced-usage.html#tls-warnings\n",
      "  warnings.warn(\n"
     ]
    },
    {
     "ename": "JSONDecodeError",
     "evalue": "Expecting value: line 1 column 1 (char 0)",
     "output_type": "error",
     "traceback": [
      "\u001b[1;31m---------------------------------------------------------------------------\u001b[0m",
      "\u001b[1;31mJSONDecodeError\u001b[0m                           Traceback (most recent call last)",
      "File \u001b[1;32mc:\\Users\\HUAWEI\\AppData\\Local\\Programs\\Python\\Python38\\lib\\site-packages\\requests\\models.py:971\u001b[0m, in \u001b[0;36mResponse.json\u001b[1;34m(self, **kwargs)\u001b[0m\n\u001b[0;32m    970\u001b[0m \u001b[39mtry\u001b[39;00m:\n\u001b[1;32m--> 971\u001b[0m     \u001b[39mreturn\u001b[39;00m complexjson\u001b[39m.\u001b[39;49mloads(\u001b[39mself\u001b[39;49m\u001b[39m.\u001b[39;49mtext, \u001b[39m*\u001b[39;49m\u001b[39m*\u001b[39;49mkwargs)\n\u001b[0;32m    972\u001b[0m \u001b[39mexcept\u001b[39;00m JSONDecodeError \u001b[39mas\u001b[39;00m e:\n\u001b[0;32m    973\u001b[0m     \u001b[39m# Catch JSON-related errors and raise as requests.JSONDecodeError\u001b[39;00m\n\u001b[0;32m    974\u001b[0m     \u001b[39m# This aliases json.JSONDecodeError and simplejson.JSONDecodeError\u001b[39;00m\n",
      "File \u001b[1;32mc:\\Users\\HUAWEI\\AppData\\Local\\Programs\\Python\\Python38\\lib\\json\\__init__.py:357\u001b[0m, in \u001b[0;36mloads\u001b[1;34m(s, cls, object_hook, parse_float, parse_int, parse_constant, object_pairs_hook, **kw)\u001b[0m\n\u001b[0;32m    354\u001b[0m \u001b[39mif\u001b[39;00m (\u001b[39mcls\u001b[39m \u001b[39mis\u001b[39;00m \u001b[39mNone\u001b[39;00m \u001b[39mand\u001b[39;00m object_hook \u001b[39mis\u001b[39;00m \u001b[39mNone\u001b[39;00m \u001b[39mand\u001b[39;00m\n\u001b[0;32m    355\u001b[0m         parse_int \u001b[39mis\u001b[39;00m \u001b[39mNone\u001b[39;00m \u001b[39mand\u001b[39;00m parse_float \u001b[39mis\u001b[39;00m \u001b[39mNone\u001b[39;00m \u001b[39mand\u001b[39;00m\n\u001b[0;32m    356\u001b[0m         parse_constant \u001b[39mis\u001b[39;00m \u001b[39mNone\u001b[39;00m \u001b[39mand\u001b[39;00m object_pairs_hook \u001b[39mis\u001b[39;00m \u001b[39mNone\u001b[39;00m \u001b[39mand\u001b[39;00m \u001b[39mnot\u001b[39;00m kw):\n\u001b[1;32m--> 357\u001b[0m     \u001b[39mreturn\u001b[39;00m _default_decoder\u001b[39m.\u001b[39;49mdecode(s)\n\u001b[0;32m    358\u001b[0m \u001b[39mif\u001b[39;00m \u001b[39mcls\u001b[39m \u001b[39mis\u001b[39;00m \u001b[39mNone\u001b[39;00m:\n",
      "File \u001b[1;32mc:\\Users\\HUAWEI\\AppData\\Local\\Programs\\Python\\Python38\\lib\\json\\decoder.py:337\u001b[0m, in \u001b[0;36mJSONDecoder.decode\u001b[1;34m(self, s, _w)\u001b[0m\n\u001b[0;32m    333\u001b[0m \u001b[39m\u001b[39m\u001b[39m\"\"\"Return the Python representation of ``s`` (a ``str`` instance\u001b[39;00m\n\u001b[0;32m    334\u001b[0m \u001b[39mcontaining a JSON document).\u001b[39;00m\n\u001b[0;32m    335\u001b[0m \n\u001b[0;32m    336\u001b[0m \u001b[39m\"\"\"\u001b[39;00m\n\u001b[1;32m--> 337\u001b[0m obj, end \u001b[39m=\u001b[39m \u001b[39mself\u001b[39;49m\u001b[39m.\u001b[39;49mraw_decode(s, idx\u001b[39m=\u001b[39;49m_w(s, \u001b[39m0\u001b[39;49m)\u001b[39m.\u001b[39;49mend())\n\u001b[0;32m    338\u001b[0m end \u001b[39m=\u001b[39m _w(s, end)\u001b[39m.\u001b[39mend()\n",
      "File \u001b[1;32mc:\\Users\\HUAWEI\\AppData\\Local\\Programs\\Python\\Python38\\lib\\json\\decoder.py:355\u001b[0m, in \u001b[0;36mJSONDecoder.raw_decode\u001b[1;34m(self, s, idx)\u001b[0m\n\u001b[0;32m    354\u001b[0m \u001b[39mexcept\u001b[39;00m \u001b[39mStopIteration\u001b[39;00m \u001b[39mas\u001b[39;00m err:\n\u001b[1;32m--> 355\u001b[0m     \u001b[39mraise\u001b[39;00m JSONDecodeError(\u001b[39m\"\u001b[39m\u001b[39mExpecting value\u001b[39m\u001b[39m\"\u001b[39m, s, err\u001b[39m.\u001b[39mvalue) \u001b[39mfrom\u001b[39;00m \u001b[39mNone\u001b[39;00m\n\u001b[0;32m    356\u001b[0m \u001b[39mreturn\u001b[39;00m obj, end\n",
      "\u001b[1;31mJSONDecodeError\u001b[0m: Expecting value: line 1 column 1 (char 0)",
      "\nDuring handling of the above exception, another exception occurred:\n",
      "\u001b[1;31mJSONDecodeError\u001b[0m                           Traceback (most recent call last)",
      "\u001b[1;32mc:\\Users\\HUAWEI\\Desktop\\lovewangyuan2\\02-basic.ipynb 单元格 15\u001b[0m line \u001b[0;36m1\n\u001b[1;32m----> <a href='vscode-notebook-cell:/c%3A/Users/HUAWEI/Desktop/lovewangyuan2/02-basic.ipynb#X30sZmlsZQ%3D%3D?line=0'>1</a>\u001b[0m get_push_time(\u001b[39m'\u001b[39;49m\u001b[39mhttps://gitee.com/lovewangyuan/lovewangyuan.git\u001b[39;49m\u001b[39m'\u001b[39;49m)\n",
      "\u001b[1;32mc:\\Users\\HUAWEI\\Desktop\\lovewangyuan2\\02-basic.ipynb 单元格 15\u001b[0m line \u001b[0;36m4\n\u001b[0;32m      <a href='vscode-notebook-cell:/c%3A/Users/HUAWEI/Desktop/lovewangyuan2/02-basic.ipynb#X30sZmlsZQ%3D%3D?line=1'>2</a>\u001b[0m api_ur1 \u001b[39m=\u001b[39m repo_ur1\u001b[39m.\u001b[39mreplace(\u001b[39m\"\u001b[39m\u001b[39mhttps://github.com/\u001b[39m\u001b[39m\"\u001b[39m,\u001b[39m\"\u001b[39m\u001b[39mhttps://api.github.com/repos/\u001b[39m\u001b[39m\"\u001b[39m)\u001b[39m+\u001b[39m\u001b[39m\"\u001b[39m\u001b[39m/commits\u001b[39m\u001b[39m\"\u001b[39m\n\u001b[0;32m      <a href='vscode-notebook-cell:/c%3A/Users/HUAWEI/Desktop/lovewangyuan2/02-basic.ipynb#X30sZmlsZQ%3D%3D?line=2'>3</a>\u001b[0m response \u001b[39m=\u001b[39m requests\u001b[39m.\u001b[39mget(api_ur1,verify\u001b[39m=\u001b[39m\u001b[39mFalse\u001b[39;00m)\n\u001b[1;32m----> <a href='vscode-notebook-cell:/c%3A/Users/HUAWEI/Desktop/lovewangyuan2/02-basic.ipynb#X30sZmlsZQ%3D%3D?line=3'>4</a>\u001b[0m data \u001b[39m=\u001b[39m response\u001b[39m.\u001b[39;49mjson()\n\u001b[0;32m      <a href='vscode-notebook-cell:/c%3A/Users/HUAWEI/Desktop/lovewangyuan2/02-basic.ipynb#X30sZmlsZQ%3D%3D?line=4'>5</a>\u001b[0m push_timea \u001b[39m=\u001b[39m []\n\u001b[0;32m      <a href='vscode-notebook-cell:/c%3A/Users/HUAWEI/Desktop/lovewangyuan2/02-basic.ipynb#X30sZmlsZQ%3D%3D?line=5'>6</a>\u001b[0m \u001b[39mfor\u001b[39;00m commit \u001b[39min\u001b[39;00m data:\n",
      "File \u001b[1;32mc:\\Users\\HUAWEI\\AppData\\Local\\Programs\\Python\\Python38\\lib\\site-packages\\requests\\models.py:975\u001b[0m, in \u001b[0;36mResponse.json\u001b[1;34m(self, **kwargs)\u001b[0m\n\u001b[0;32m    971\u001b[0m     \u001b[39mreturn\u001b[39;00m complexjson\u001b[39m.\u001b[39mloads(\u001b[39mself\u001b[39m\u001b[39m.\u001b[39mtext, \u001b[39m*\u001b[39m\u001b[39m*\u001b[39mkwargs)\n\u001b[0;32m    972\u001b[0m \u001b[39mexcept\u001b[39;00m JSONDecodeError \u001b[39mas\u001b[39;00m e:\n\u001b[0;32m    973\u001b[0m     \u001b[39m# Catch JSON-related errors and raise as requests.JSONDecodeError\u001b[39;00m\n\u001b[0;32m    974\u001b[0m     \u001b[39m# This aliases json.JSONDecodeError and simplejson.JSONDecodeError\u001b[39;00m\n\u001b[1;32m--> 975\u001b[0m     \u001b[39mraise\u001b[39;00m RequestsJSONDecodeError(e\u001b[39m.\u001b[39mmsg, e\u001b[39m.\u001b[39mdoc, e\u001b[39m.\u001b[39mpos)\n",
      "\u001b[1;31mJSONDecodeError\u001b[0m: Expecting value: line 1 column 1 (char 0)"
     ]
    }
   ],
   "source": [
    "get_push_time('https://gitee.com/lovewangyuan/lovewangyuan.git')"
   ]
  },
  {
   "cell_type": "code",
   "execution_count": 44,
   "metadata": {},
   "outputs": [
    {
     "name": "stderr",
     "output_type": "stream",
     "text": [
      "c:\\Users\\HUAWEI\\AppData\\Local\\Programs\\Python\\Python38\\lib\\site-packages\\urllib3\\connectionpool.py:1095: InsecureRequestWarning: Unverified HTTPS request is being made to host 'api.github.com'. Adding certificate verification is strongly advised. See: https://urllib3.readthedocs.io/en/latest/advanced-usage.html#tls-warnings\n",
      "  warnings.warn(\n"
     ]
    },
    {
     "ename": "TypeError",
     "evalue": "string indices must be integers",
     "output_type": "error",
     "traceback": [
      "\u001b[1;31m---------------------------------------------------------------------------\u001b[0m",
      "\u001b[1;31mTypeError\u001b[0m                                 Traceback (most recent call last)",
      "\u001b[1;32mc:\\Users\\HUAWEI\\Desktop\\lovewangyuan2\\02-basic.ipynb 单元格 16\u001b[0m line \u001b[0;36m1\n\u001b[1;32m----> <a href='vscode-notebook-cell:/c%3A/Users/HUAWEI/Desktop/lovewangyuan2/02-basic.ipynb#X31sZmlsZQ%3D%3D?line=0'>1</a>\u001b[0m get_push_time(\u001b[39m'\u001b[39;49m\u001b[39mhttps://github.com/lovewangyuan/lovewangyuan.git\u001b[39;49m\u001b[39m'\u001b[39;49m)\n",
      "\u001b[1;32mc:\\Users\\HUAWEI\\Desktop\\lovewangyuan2\\02-basic.ipynb 单元格 16\u001b[0m line \u001b[0;36m7\n\u001b[0;32m      <a href='vscode-notebook-cell:/c%3A/Users/HUAWEI/Desktop/lovewangyuan2/02-basic.ipynb#X31sZmlsZQ%3D%3D?line=4'>5</a>\u001b[0m push_timea \u001b[39m=\u001b[39m []\n\u001b[0;32m      <a href='vscode-notebook-cell:/c%3A/Users/HUAWEI/Desktop/lovewangyuan2/02-basic.ipynb#X31sZmlsZQ%3D%3D?line=5'>6</a>\u001b[0m \u001b[39mfor\u001b[39;00m commit \u001b[39min\u001b[39;00m data:\n\u001b[1;32m----> <a href='vscode-notebook-cell:/c%3A/Users/HUAWEI/Desktop/lovewangyuan2/02-basic.ipynb#X31sZmlsZQ%3D%3D?line=6'>7</a>\u001b[0m     commit_time \u001b[39m=\u001b[39m datetime\u001b[39m.\u001b[39mstrptime(commit[\u001b[39m'\u001b[39;49m\u001b[39mcommit\u001b[39;49m\u001b[39m'\u001b[39;49m][\u001b[39m'\u001b[39m\u001b[39mcommitter\u001b[39m\u001b[39m'\u001b[39m][\u001b[39m'\u001b[39m\u001b[39mdate\u001b[39m\u001b[39m'\u001b[39m],\u001b[39m'\u001b[39m\u001b[39m%\u001b[39m\u001b[39mY-\u001b[39m\u001b[39m%\u001b[39m\u001b[39mm-\u001b[39m\u001b[39m%d\u001b[39;00m\u001b[39mT\u001b[39m\u001b[39m%\u001b[39m\u001b[39mH:\u001b[39m\u001b[39m%\u001b[39m\u001b[39mM:\u001b[39m\u001b[39m%\u001b[39m\u001b[39mSZ\u001b[39m\u001b[39m'\u001b[39m)\n\u001b[0;32m      <a href='vscode-notebook-cell:/c%3A/Users/HUAWEI/Desktop/lovewangyuan2/02-basic.ipynb#X31sZmlsZQ%3D%3D?line=7'>8</a>\u001b[0m     push_times\u001b[39m.\u001b[39mappend(commit_time)\n\u001b[0;32m      <a href='vscode-notebook-cell:/c%3A/Users/HUAWEI/Desktop/lovewangyuan2/02-basic.ipynb#X31sZmlsZQ%3D%3D?line=8'>9</a>\u001b[0m \u001b[39mreturn\u001b[39;00m push_times\n",
      "\u001b[1;31mTypeError\u001b[0m: string indices must be integers"
     ]
    }
   ],
   "source": [
    "get_push_time('https://github.com/lovewangyuan/lovewangyuan.git')"
   ]
  }
 ],
 "metadata": {
  "kernelspec": {
   "display_name": "Python 3",
   "language": "python",
   "name": "python3"
  },
  "language_info": {
   "codemirror_mode": {
    "name": "ipython",
    "version": 3
   },
   "file_extension": ".py",
   "mimetype": "text/x-python",
   "name": "python",
   "nbconvert_exporter": "python",
   "pygments_lexer": "ipython3",
   "version": "3.8.10"
  },
  "orig_nbformat": 4
 },
 "nbformat": 4,
 "nbformat_minor": 2
}
